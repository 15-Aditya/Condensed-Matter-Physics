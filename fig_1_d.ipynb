{
 "cells": [
  {
   "cell_type": "code",
   "execution_count": 55,
   "metadata": {},
   "outputs": [
    {
     "name": "stdout",
     "output_type": "stream",
     "text": [
      "index =  149\n",
      "index_1 =  0\n"
     ]
    },
    {
     "data": {
      "image/png": "[encoded data removed]",
      "text/plain": [
       "<Figure size 640x480 with 1 Axes>"
      ]
     },
     "metadata": {},
     "output_type": "display_data"
    }
   ],
   "source": [
    "import matplotlib.pyplot as plt\n",
    "import numpy as np\n",
    "\n",
    "N = 150\n",
    "H = np.zeros((N,N))\n",
    "t_1 = 0.36\n",
    "\n",
    "#Initialising variables\n",
    "num = 0.0\n",
    "den = 0.5*N*(N-1)\n",
    "eigval = []\n",
    "eigvec_array = []\n",
    "\n",
    "#Generating Hamiltonian\n",
    "for i in range (0, N-1):\n",
    "    if(i % 2 == 0):\n",
    "        H[i,i+1] = t_1 #t_1\n",
    "        H[i+1,i] = t_1 #t_1\n",
    "    elif(i % 2 == 1 and i < N-1):\n",
    "        H[i,i+1] = 1.1 #t_2+g\n",
    "        H[i+1,i] = 0.9 #t_2-g\n",
    "\n",
    "#Calculating eigenvalues and eigenvectors\n",
    "eigval, eigvec_array = np.linalg.eig(H)\n",
    "eigvec = np.transpose(eigvec_array)\n",
    "index = 0\n",
    "index_1 = 0\n",
    "\n",
    "#Finding index with lowest absolute eigenvalue (note that edge states are taken for energy  = 0)\n",
    "for k in range (0, N):\n",
    "    if(np.absolute(eigval[k]) < np.absolute(eigval[index])):\n",
    "        index = k\n",
    "\n",
    "#Finding index with second lowest eigenvalue (since hamiltonian is symmetric about zero, there will be two lowest eigenvalues)\n",
    "for m in range(0, N):\n",
    "    if((m != index) and (np.absolute(eigval[m]) < np.absolute(eigval[index_1]))):\n",
    "        index_1 = m\n",
    "\n",
    "#Printing indexes\n",
    "print(\"index = \", index)\n",
    "print(\"index_1 = \", index_1)\n",
    "\n",
    "#Plotting probability density for both indexes\n",
    "for site in range (0, N):\n",
    "    psi_square = (np.absolute(eigvec[index][site]))**2\n",
    "    psi_square_1 = (np.absolute(eigvec[index_1][site]))**2\n",
    "    #print(\"site = \", site, \"prob den = \", psi_square)\n",
    "    plt.plot(site+1, psi_square, marker = 'o', markersize = '2', color = 'red')\n",
    "    plt.plot(site+1, psi_square_1, marker = 'o', markersize = '2', color = 'blue')\n",
    "    plt.xlabel(\"Site\")\n",
    "    plt.ylabel(\"$|\\Psi|^{2}$\")\n",
    "    plt.xticks(np.arange(0, 160, 30))\n",
    "    plt.yticks(np.arange(0, 1.1, 0.2))\n",
    "plt.show()\n"
   ]
  }
 ],
 "metadata": {
  "kernelspec": {
   "display_name": "Python 3",
   "language": "python",
   "name": "python3"
  },
  "language_info": {
   "codemirror_mode": {
    "name": "ipython",
    "version": 3
   },
   "file_extension": ".py",
   "mimetype": "text/x-python",
   "name": "python",
   "nbconvert_exporter": "python",
   "pygments_lexer": "ipython3",
   "version": "3.11.4"
  },
  "orig_nbformat": 4
 },
 "nbformat": 4,
 "nbformat_minor": 2
}
