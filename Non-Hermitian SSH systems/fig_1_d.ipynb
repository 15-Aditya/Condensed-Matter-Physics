{
 "cells": [
  {
   "cell_type": "code",
   "execution_count": 1,
   "metadata": {},
   "outputs": [
    {
     "ename": "ValueError",
     "evalue": "invalid literal for int() with base 10: ''",
     "output_type": "error",
     "traceback": [
      "\u001b[1;31m---------------------------------------------------------------------------\u001b[0m",
      "\u001b[1;31mValueError\u001b[0m                                Traceback (most recent call last)",
      "Cell \u001b[1;32mIn[1], line 4\u001b[0m\n\u001b[0;32m      1\u001b[0m \u001b[39mimport\u001b[39;00m \u001b[39mmatplotlib\u001b[39;00m\u001b[39m.\u001b[39;00m\u001b[39mpyplot\u001b[39;00m \u001b[39mas\u001b[39;00m \u001b[39mmpl\u001b[39;00m\n\u001b[0;32m      2\u001b[0m \u001b[39mimport\u001b[39;00m \u001b[39mnumpy\u001b[39;00m\n\u001b[1;32m----> 4\u001b[0m N \u001b[39m=\u001b[39m \u001b[39mint\u001b[39;49m(\u001b[39minput\u001b[39;49m(\u001b[39m\"\u001b[39;49m\u001b[39mEnter N \u001b[39;49m\u001b[39m\\n\u001b[39;49;00m\u001b[39m\"\u001b[39;49m))\n\u001b[0;32m      5\u001b[0m t_2 \u001b[39m=\u001b[39m \u001b[39mfloat\u001b[39m(\u001b[39minput\u001b[39m(\u001b[39m\"\u001b[39m\u001b[39mEnter t_2 \u001b[39m\u001b[39m\\n\u001b[39;00m\u001b[39m\"\u001b[39m))\n\u001b[0;32m      6\u001b[0m eta \u001b[39m=\u001b[39m []\n",
      "\u001b[1;31mValueError\u001b[0m: invalid literal for int() with base 10: ''"
     ]
    }
   ],
   "source": [
    "import matplotlib.pyplot as mpl\n",
    "import numpy\n",
    "\n",
    "N = int(input(\"Enter N \\n\"))\n",
    "t_2 = float(input(\"Enter t_2 \\n\"))\n",
    "eta = []\n",
    "H = numpy.zeros((N,N))\n",
    "\n",
    "for t_1 in numpy.linspace(-1.0,1.0, num = 201, endpoint = True):\n",
    "    num = 0.0\n",
    "    den = 0.5*N*(N-1)\n",
    "    eigval = []\n",
    "    eigvec_array = []\n",
    "    for i in range (0, N-1):\n",
    "        if(i % 2 == 0):\n",
    "            H[i,i+1] = 2*t_1 #t_1/g\n",
    "            H[i+1,i] = t_1 #t_1\n",
    "        elif(i % 2 == 1 and i < N-1):\n",
    "            H[i,i+1] = t_2 #t_2\n",
    "            H[i+1,i] = 2*t_2 #t_2/g\n",
    "    eigval, eigvec_array = numpy.linalg.eig(H)\n",
    "    \n",
    "    eigvec = numpy.transpose(eigvec_array)\n",
    "\n",
    "    for m in range (1,N):\n",
    "        for n in range (0,m):\n",
    "            num = num + (abs(numpy.inner(numpy.conj(eigvec[n]),eigvec[m]))**2)\n",
    "            #den = den + (abs(numpy.inner(numpy.conj(eigvec[n]),eigvec[n]))*abs(numpy.inner(numpy.conj(eigvec[m]),eigvec[m])))       \n",
    "    eta.append(num/den)\n",
    "t1_val = numpy.linspace(-1.0, 1.0, num = 201, endpoint = True)\n",
    "mpl.plot(t1_val, eta, 'o', markersize = '2', color = 'black')\n",
    "mpl.show()\n",
    "print(eta)"
   ]
  },
  {
   "cell_type": "code",
   "execution_count": null,
   "metadata": {},
   "outputs": [],
   "source": []
  }
 ],
 "metadata": {
  "kernelspec": {
   "display_name": "Python 3",
   "language": "python",
   "name": "python3"
  },
  "language_info": {
   "codemirror_mode": {
    "name": "ipython",
    "version": 3
   },
   "file_extension": ".py",
   "mimetype": "text/x-python",
   "name": "python",
   "nbconvert_exporter": "python",
   "pygments_lexer": "ipython3",
   "version": "3.11.4"
  },
  "orig_nbformat": 4,
  "vscode": {
   "interpreter": {
    "hash": "41c53607803ff4cfc7a9dec361d522f9dade00b3306a03f5d008a7f7effb9625"
   }
  }
 },
 "nbformat": 4,
 "nbformat_minor": 2
}
