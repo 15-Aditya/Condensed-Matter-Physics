{
 "cells": [
  {
   "cell_type": "code",
   "execution_count": 3,
   "metadata": {},
   "outputs": [
    {
     "data": {
      "image/png": "[encoded data removed]",
      "text/plain": [
       "<Figure size 640x480 with 1 Axes>"
      ]
     },
     "metadata": {},
     "output_type": "display_data"
    }
   ],
   "source": [
    "import matplotlib.pyplot as plt\n",
    "import numpy as np\n",
    "import math \n",
    "import cmath\n",
    "\n",
    "N = 169\n",
    "H = np.zeros((N,N), dtype = complex)\n",
    "J_R = 1\n",
    "J_L = 0.5\n",
    "\n",
    "#Initialising variables\n",
    "eigval = []\n",
    "eigvec_array = []\n",
    "eta_list = []\n",
    "\n",
    "for V in np.linspace(0, 2, 101, endpoint = 'True'):\n",
    "    \n",
    "    #Initialising variables\n",
    "    num = 0.0\n",
    "    den = 0.5*N*(N-1)\n",
    "\n",
    "    #Generating Hamiltonian\n",
    "    for i in range (0, N-1):\n",
    "        H[i,i+1] = J_L #J_L\n",
    "        H[i+1,i] = J_R #J_R\n",
    "\n",
    "    #Periodic Boundary Conditions\n",
    "    H[N-1][0] = J_L\n",
    "    H[0][N-1] = J_R\n",
    "\n",
    "    for n in range (0, N):\n",
    "        exp_term = -2*math.pi*math.sqrt(2)*(n+1)\n",
    "        V_n = complex(V*math.cos(exp_term), V*math.sin(exp_term))\n",
    "        #V_n = V*math.cos(exp_term) + (V*math.sin(exp_term))j\n",
    "        H[n][n] = V_n\n",
    "\n",
    "    #Calculating eigenvalues and eigenvectors\n",
    "    eigval, eigvec_array = np.linalg.eig(H)\n",
    "    eigvec = np.transpose(eigvec_array)\n",
    "\n",
    "    #Calculating eta\n",
    "    for m in range (1,N):\n",
    "        for n in range (0,m):\n",
    "            num = num + (abs(np.inner(np.conj(eigvec[n]),eigvec[m]))**2)  \n",
    "            #den = den + (abs(np.inner(np.conj(eigvec[n]),eigvec[n]))*abs(np.inner(np.conj(eigvec[m]),eigvec[m])))      \n",
    "    eta = num/den\n",
    "    eta_list.append(eta)  \n",
    "    \n",
    "Vn = np.linspace(0, 1.96, num = 100, endpoint = True)\n",
    "eta_der = []\n",
    "for k in range (0,100):\n",
    "    eta_der.append((eta_list[k+1] - eta_list[k])/0.02)\n",
    "plt.plot(Vn, eta_der, 'o', markersize = '2', color = 'black')\n",
    "plt.xlim(0,2.0)\n",
    "plt.show()"
   ]
  }
 ],
 "metadata": {
  "kernelspec": {
   "display_name": "Python 3",
   "language": "python",
   "name": "python3"
  },
  "language_info": {
   "codemirror_mode": {
    "name": "ipython",
    "version": 3
   },
   "file_extension": ".py",
   "mimetype": "text/x-python",
   "name": "python",
   "nbconvert_exporter": "python",
   "pygments_lexer": "ipython3",
   "version": "3.11.4"
  },
  "orig_nbformat": 4
 },
 "nbformat": 4,
 "nbformat_minor": 2
}
